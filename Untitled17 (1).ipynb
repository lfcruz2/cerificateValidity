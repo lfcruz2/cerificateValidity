{
  "nbformat": 4,
  "nbformat_minor": 0,
  "metadata": {
    "colab": {
      "provenance": []
    },
    "kernelspec": {
      "name": "python3",
      "display_name": "Python 3"
    },
    "language_info": {
      "name": "python"
    }
  },
  "cells": [
    {
      "cell_type": "code",
      "execution_count": null,
      "metadata": {
        "id": "ZbRCjp417YIA"
      },
      "outputs": [],
      "source": [
        "openssl pkcs12 -in your_certificate.pfx -nocerts -nodes -out cert_key.pem -passin pass:\n",
        "openssl pkcs12 -in your_certificate.pfx -clcerts -nokeys -out cert_cert.pem -passin pass:\n",
        "openssl pkcs12 -in your_certificate.pfx -clcerts -nokeys -out cert_cert.pem -passin pass:\n",
        "openssl pkcs12 -in your_certificate.pfx -cacerts -nokeys -out cert_chain.pem -passin pass:\n",
        "openssl verify -CAfile cert_chain.pem cert_cert.pem"
      ]
    },
    {
      "cell_type": "code",
      "source": [
        "openssl verify -CAfile cert_chain.pem cert_cert.pem"
      ],
      "metadata": {
        "id": "nAE7rQAc7laj"
      },
      "execution_count": null,
      "outputs": []
    },
    {
      "cell_type": "code",
      "source": [
        "def extract_and_validate_certificates(pfx_file, output_dir='certificates', base_name='cert'):\n",
        "    \"\"\"\n",
        "    Extracts the private key, public certificate, and certificate chain from a .pfx file without a password.\n",
        "    Validates the certificate chain.\n",
        "\n",
        "    Parameters:\n",
        "    - pfx_file: Path to the .pfx file.\n",
        "    - output_dir: Directory to save the extracted certificates.\n",
        "    - base_name: Base name for the output files.\n",
        "    \"\"\"\n",
        "    # Ensure the output directory exists\n",
        "    if not os.path.exists(output_dir):\n",
        "        os.makedirs(output_dir)\n",
        "\n",
        "    # Define output file paths\n",
        "    key_path = os.path.join(output_dir, f'{base_name}_key.pem')\n",
        "    cert_path = os.path.join(output_dir, f'{base_name}_cert.pem')\n",
        "    chain_path = os.path.join(output_dir, f'{base_name}_chain.pem')\n",
        "    fullchain_path = os.path.join(output_dir, f'{base_name}_fullchain.pem')\n",
        "\n",
        "    try:\n",
        "        # Step 1: Extract the private key (unencrypted)\n",
        "        print('Extracting the private key...')\n",
        "        subprocess.run([\n",
        "            'openssl', 'pkcs12', '-in', pfx_file,\n",
        "            '-nocerts', '-nodes', '-out', key_path, '-passin', 'pass:'\n",
        "        ], check=True)\n",
        "\n",
        "        # Step 2: Extract the public certificate\n",
        "        print('Extracting the public certificate...')\n",
        "        subprocess.run([\n",
        "            'openssl', 'pkcs12', '-in', pfx_file,\n",
        "            '-clcerts', '-nokeys', '-out', cert_path, '-passin', 'pass:'\n",
        "        ], check=True)\n",
        "\n",
        "        # Step 3: Extract the CA certificate chain\n",
        "        print('Extracting the CA certificate chain...')\n",
        "        # Using a temporary file to handle cases where there is no CA chain\n",
        "        with tempfile.NamedTemporaryFile(delete=False) as tmp_chain:\n",
        "            subprocess.run([\n",
        "                'openssl', 'pkcs12', '-in', pfx_file,\n",
        "                '-cacerts', '-nokeys', '-out', tmp_chain.name, '-passin', 'pass:'\n",
        "            ], check=True)\n",
        "            tmp_chain_path = tmp_chain.name\n",
        "\n",
        "        # Check if the temporary chain file is not empty\n",
        "        if os.path.getsize(tmp_chain_path) > 0:\n",
        "            os.rename(tmp_chain_path, chain_path)\n",
        "            chain_exists = True\n",
        "        else:\n",
        "            # If there's no chain, remove the temporary file\n",
        "            os.unlink(tmp_chain_path)\n",
        "            chain_exists = False\n",
        "\n",
        "        # Step 4: Combine the certificate and the chain\n",
        "        print('Combining the certificate and the chain...')\n",
        "        with open(fullchain_path, 'w') as outfile:\n",
        "            with open(cert_path, 'r') as infile:\n",
        "                outfile.write(infile.read())\n",
        "            if chain_exists:\n",
        "                with open(chain_path, 'r') as infile:\n",
        "                    outfile.write(infile.read())\n",
        "\n",
        "        # Step 5: Validate the certificate chain\n",
        "        print('Validating the certificate chain...')\n",
        "        if chain_exists:\n",
        "            subprocess.run([\n",
        "                'openssl', 'verify', '-CAfile', chain_path, cert_path\n",
        "            ], check=True)\n",
        "        else:\n",
        "            # If there's no chain, use the system's default CA certificates\n",
        "            subprocess.run([\n",
        "                'openssl', 'verify', cert_path\n",
        "            ], check=True)\n",
        "\n",
        "        print('Certificate chain is valid.')\n",
        "        print(f'Certificates have been saved in the \"{output_dir}\" directory.')\n",
        "    except subprocess.CalledProcessError as e:\n",
        "        print(f'An error occurred: {e}')\n",
        "    except Exception as e:\n",
        "        print(f'Unexpected error: {e}')\n"
      ],
      "metadata": {
        "id": "MZaDgP2C7mr4"
      },
      "execution_count": null,
      "outputs": []
    },
    {
      "cell_type": "code",
      "source": [
        "# Path to the .pfx file (without a password)\n",
        "pfx_file = 'path/to/your_certificate.pfx'\n",
        "\n",
        "# Call the function\n",
        "extract_and_validate_certificates(pfx_file)\n"
      ],
      "metadata": {
        "id": "z6fF1I8E7oMJ"
      },
      "execution_count": null,
      "outputs": []
    },
    {
      "cell_type": "code",
      "source": [
        "a. Locate the System Trusted Certificates Directory\n",
        "On Red Hat-based systems (like CentOS or Fedora), the trusted CA certificates are usually located in:\n",
        "\n",
        "Certificates Directory: /etc/pki/ca-trust/extracted/pem/\n",
        "CA Bundle File: /etc/pki/ca-trust/extracted/pem/tls-ca-bundle.pem\n",
        "Anchors Directory (for custom certificates): /etc/pki/ca-trust/source/anchors/"
      ],
      "metadata": {
        "id": "V9uYvZpg78dB"
      },
      "execution_count": null,
      "outputs": []
    },
    {
      "cell_type": "code",
      "source": [
        "ls -l /etc/pki/ca-trust/extracted/pem/\n",
        "ls -l /etc/pki/ca-trust/source/anchors/\n",
        "less /etc/pki/ca-trust/extracted/pem/tls-ca-bundle.pem\n",
        "grep -A 1 -B 1 \"Common Name\" /etc/pki/ca-trust/extracted/pem/tls-ca-bundle.pem\n",
        "grep -A 1 -B 1 \"My Company Proxy\" /etc/pki/ca-trust/extracted/pem/tls-ca-bundle.pem\n"
      ],
      "metadata": {
        "id": "RTlW75rZ79sh"
      },
      "execution_count": null,
      "outputs": []
    },
    {
      "cell_type": "code",
      "source": [
        "sudo cp proxy_cert.pem /etc/pki/ca-trust/source/anchors/\n",
        "sudo update-ca-trust extract\n",
        "grep -A 1 -B 1 \"My Company Proxy\" /etc/pki/ca-trust/extracted/pem/tls-ca-bundle.pem\n"
      ],
      "metadata": {
        "id": "mAh3kwgp9TSi"
      },
      "execution_count": null,
      "outputs": []
    },
    {
      "cell_type": "code",
      "source": [
        "import requests\n",
        "print(requests.certs.where())\n",
        "/etc/pki/ca-trust/extracted/pem/tls-ca-bundle.pem\n",
        "/usr/lib/python3.6/site-packages/certifi/cacert.pem\n"
      ],
      "metadata": {
        "id": "2-wq6bkv9bMx"
      },
      "execution_count": null,
      "outputs": []
    },
    {
      "cell_type": "code",
      "source": [
        "import requests\n",
        "\n",
        "# Path to the system CA bundle\n",
        "system_ca_bundle = '/etc/pki/ca-trust/extracted/pem/tls-ca-bundle.pem'\n",
        "\n",
        "# Create a session that uses the system CA bundle\n",
        "session = requests.Session()\n",
        "session.verify = system_ca_bundle\n",
        "\n",
        "# Use the session for your requests\n",
        "response = session.get('https://your_service')\n"
      ],
      "metadata": {
        "id": "PZLgnMBn9n3K"
      },
      "execution_count": null,
      "outputs": []
    },
    {
      "cell_type": "code",
      "source": [
        "openssl s_client -connect your_service:443 -proxy your_proxy:proxy_port -CAfile /etc/pki/ca-trust/extracted/pem/tls-ca-bundle.pem\n",
        "openssl s_client -connect vendor_service.com:443 -proxy proxy.company.com:8080 -CAfile /etc/pki/ca-trust/extracted/pem/tls-ca-bundle.pem\n"
      ],
      "metadata": {
        "id": "o3fOcqBw9wz4"
      },
      "execution_count": null,
      "outputs": []
    },
    {
      "cell_type": "code",
      "source": [
        "openssl verify -CAfile /etc/pki/ca-trust/extracted/pem/tls-ca-bundle.pem server_cert.pem\n"
      ],
      "metadata": {
        "id": "1Fqu7aKi-HAS"
      },
      "execution_count": null,
      "outputs": []
    },
    {
      "cell_type": "code",
      "source": [
        "from cryptography.hazmat.primitives.serialization import pkcs12, Encoding, NoEncryption, PrivateFormat\n",
        "from cryptography.hazmat.backends import default_backend\n",
        "import os\n",
        "from typing import Optional\n",
        "import getpass\n",
        "\n",
        "def process_pfx_file(pfx_file: str, pfx_password: Optional[str] = None, output_dir: str = 'certificates', base_name: str = 'certificate', proxy_cert: Optional[str] = None):\n",
        "    \"\"\"\n",
        "    Processes a .pfx file to extract the private key, public certificate, and intermediate/root certificates.\n",
        "    Combines the certificates in the correct order and optionally adds the proxy certificate.\n",
        "\n",
        "    Parameters:\n",
        "    - pfx_file: Path to the .pfx file provided by the vendor.\n",
        "    - pfx_password: Password for the .pfx file. If not provided, it will be requested from the user.\n",
        "    - output_dir: Directory where the extracted certificates will be saved.\n",
        "    - base_name: Base name for the extracted files.\n",
        "    - proxy_cert: Path to the proxy certificate in PEM format (optional).\n",
        "    \"\"\"\n",
        "    # Request the password for the .pfx file if not provided\n",
        "    if pfx_password is None:\n",
        "        pfx_password = getpass.getpass('Enter the password for the .pfx file (leave blank if none): ')\n",
        "        if pfx_password == '':\n",
        "            pfx_password = None\n",
        "        else:\n",
        "            pfx_password = pfx_password.encode()\n",
        "    else:\n",
        "        pfx_password = pfx_password.encode()\n",
        "\n",
        "    # Create the output directory if it doesn't exist\n",
        "    if not os.path.exists(output_dir):\n",
        "        os.makedirs(output_dir)\n",
        "\n",
        "    # Read the .pfx file\n",
        "    with open(pfx_file, 'rb') as f:\n",
        "        pfx_data = f.read()\n",
        "\n",
        "    # Load the PKCS12 data\n",
        "    private_key, certificate, additional_certificates = pkcs12.load_key_and_certificates(pfx_data, pfx_password)\n",
        "\n",
        "    # Paths for the output files\n",
        "    key_path = os.path.join(output_dir, f'{base_name}_key.pem')\n",
        "    cert_path = os.path.join(output_dir, f'{base_name}_cert.pem')\n",
        "    chain_path = os.path.join(output_dir, f'{base_name}_chain.pem')\n",
        "    fullchain_path = os.path.join(output_dir, f'{base_name}_fullchain.pem')\n",
        "    ca_certificates_path = os.path.join(output_dir, f'{base_name}_ca_certificates.pem')\n",
        "\n",
        "    # Save the private key\n",
        "    if private_key is not None:\n",
        "        print('Saving the private key...')\n",
        "        with open(key_path, 'wb') as f:\n",
        "            # Save without encryption - be cautious with the private key file\n",
        "            f.write(private_key.private_bytes(\n",
        "                encoding=Encoding.PEM,\n",
        "                format=PrivateFormat.PKCS8,\n",
        "                encryption_algorithm=NoEncryption()\n",
        "            ))\n",
        "    else:\n",
        "        print('No private key found in the .pfx file.')\n",
        "\n",
        "    # Save the public certificate\n",
        "    if certificate is not None:\n",
        "        print('Saving the public certificate...')\n",
        "        with open(cert_path, 'wb') as f:\n",
        "            f.write(certificate.public_bytes(Encoding.PEM))\n",
        "    else:\n",
        "        print('No certificate found in the .pfx file.')\n",
        "\n",
        "    # Save additional certificates (chain)\n",
        "    if additional_certificates is not None and len(additional_certificates) > 0:\n",
        "        print('Saving intermediate and root certificates...')\n",
        "        with open(chain_path, 'wb') as f:\n",
        "            for cert in additional_certificates:\n",
        "                f.write(cert.public_bytes(Encoding.PEM))\n",
        "    else:\n",
        "        print('No additional certificates found in the .pfx file.')\n",
        "        chain_path = None\n",
        "\n",
        "    # Combine the certificates in the correct order\n",
        "    print('Combining certificates in the correct order...')\n",
        "    with open(fullchain_path, 'wb') as outfile:\n",
        "        if certificate is not None:\n",
        "            with open(cert_path, 'rb') as infile:\n",
        "                outfile.write(infile.read())\n",
        "        if chain_path is not None:\n",
        "            with open(chain_path, 'rb') as infile:\n",
        "                outfile.write(infile.read())\n",
        "\n",
        "    # Combine the chain with the proxy certificate if provided\n",
        "    if proxy_cert:\n",
        "        print('Adding the proxy certificate...')\n",
        "        with open(ca_certificates_path, 'wb') as outfile:\n",
        "            if chain_path is not None:\n",
        "                with open(chain_path, 'rb') as infile:\n",
        "                    outfile.write(infile.read())\n",
        "            with open(proxy_cert, 'rb') as infile:\n",
        "                outfile.write(infile.read())\n",
        "        print(f'CA certificates combined in: {ca_certificates_path}')\n",
        "    else:\n",
        "        ca_certificates_path = chain_path  # Use only the vendor's certificate chain\n",
        "\n",
        "    print('Process completed successfully.')\n",
        "    print(f'Certificates have been saved in the directory: {output_dir}')\n",
        "    print('Generated files:')\n",
        "    if private_key is not None:\n",
        "        print(f'- Private key: {key_path}')\n",
        "    if certificate is not None:\n",
        "        print(f'- Public certificate: {cert_path}')\n",
        "    if chain_path is not None:\n",
        "        print(f'- Certificate chain: {chain_path}')\n",
        "    print(f'- Full certificate chain: {fullchain_path}')\n",
        "    if proxy_cert:\n",
        "        print(f'- CA certificates (including proxy): {ca_certificates_path}')\n",
        "    elif chain_path is not None:\n",
        "        print(f'- CA certificates: {ca_certificates_path}')\n"
      ],
      "metadata": {
        "id": "2Telo3yeDEVC"
      },
      "execution_count": null,
      "outputs": []
    },
    {
      "cell_type": "code",
      "source": [
        "if __name__ == '__main__':\n",
        "    # Path to the .pfx file provided by the vendor\n",
        "    pfx_file = 'your_certificate.pfx'  # Replace with your actual .pfx file name\n",
        "\n",
        "    # Password for the .pfx file (optional)\n",
        "    pfx_password = None  # It will be requested if not provided\n",
        "\n",
        "    # Directory where the extracted certificates will be saved\n",
        "    output_dir = 'extracted_certificates'\n",
        "\n",
        "    # Base name for the extracted files\n",
        "    base_name = 'vendor_cert'\n",
        "\n",
        "    # Path to the proxy certificate (optional)\n",
        "    proxy_cert = None  # Or 'path/to/proxy_cert.pem' if you have it\n",
        "\n",
        "    # Call the function\n",
        "    process_pfx_file(pfx_file, pfx_password, output_dir, base_name, proxy_cert)\n"
      ],
      "metadata": {
        "id": "_nvYH3U2DGky"
      },
      "execution_count": null,
      "outputs": []
    },
    {
      "cell_type": "code",
      "source": [
        "from cryptography import x509\n",
        "from certvalidator import CertificateValidator, ValidationContext\n",
        "\n",
        "def validate_certificate_chain(cert_path, chain_paths):\n",
        "    # Load the end-entity certificate\n",
        "    with open(cert_path, 'rb') as f:\n",
        "        cert_data = f.read()\n",
        "    end_entity_cert = x509.load_pem_x509_certificate(cert_data)\n",
        "\n",
        "    # Load the intermediate certificates\n",
        "    intermediate_certs = []\n",
        "    for chain_path in chain_paths:\n",
        "        with open(chain_path, 'rb') as f:\n",
        "            chain_data = f.read()\n",
        "        certs = x509.load_pem_x509_certificates(chain_data)\n",
        "        intermediate_certs.extend(certs)\n",
        "\n",
        "    # Create a validation context\n",
        "    context = ValidationContext(trust_roots=intermediate_certs)\n",
        "\n",
        "    # Validate the certificate\n",
        "    validator = CertificateValidator(end_entity_cert, intermediate_certs, validation_context=context)\n",
        "    try:\n",
        "        validator.validate_usage(set())\n",
        "        print('Certificate chain is valid.')\n",
        "    except Exception as e:\n",
        "        print('Certificate validation failed:', e)\n"
      ],
      "metadata": {
        "id": "GxADHX5_DJG6"
      },
      "execution_count": null,
      "outputs": []
    }
  ]
}