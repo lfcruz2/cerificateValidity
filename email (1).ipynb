{
  "nbformat": 4,
  "nbformat_minor": 0,
  "metadata": {
    "colab": {
      "provenance": []
    },
    "kernelspec": {
      "name": "python3",
      "display_name": "Python 3"
    },
    "language_info": {
      "name": "python"
    }
  },
  "cells": [
    {
      "cell_type": "code",
      "execution_count": null,
      "metadata": {
        "id": "U_11DPiEG8cH"
      },
      "outputs": [],
      "source": [
        "email_project/\n",
        "│\n",
        "├── send_email.py             # Standalone Python script to send email\n",
        "├── .env                      # Environment variables file to store credentials\n",
        "└── templates/                # Folder for HTML templates\n",
        "    └── email_template.html   # HTML template for the email"
      ]
    },
    {
      "cell_type": "code",
      "source": [
        "import os\n",
        "import smtplib\n",
        "from email.mime.multipart import MIMEMultipart\n",
        "from email.mime.text import MIMEText\n",
        "from dotenv import load_dotenv\n",
        "from jinja2 import Template\n",
        "\n",
        "# Load environment variables from .env file\n",
        "load_dotenv()\n",
        "\n",
        "# Email configuration\n",
        "smtp_server = 'smtp.office365.com'\n",
        "smtp_port = 587\n",
        "username = os.getenv('OUTLOOK_MAIL_USERNAME')\n",
        "password = os.getenv('OUTLOOK_MAIL_PASSWORD')\n",
        "\n",
        "# Read the HTML template\n",
        "with open('templates/email_template.html', 'r') as file:\n",
        "    template = Template(file.read())\n",
        "\n",
        "# Render the template with dynamic content\n",
        "html_content = template.render(title='Test Email', message='This is an email sent securely using a Python script.')\n",
        "\n",
        "# Create the email message\n",
        "msg = MIMEMultipart('alternative')\n",
        "msg['From'] = username\n",
        "msg['To'] = 'recipient@example.com'  # Replace with the recipient's email\n",
        "msg['Subject'] = 'Secure Test Email with Python Script'\n",
        "\n",
        "# Attach the HTML content to the email\n",
        "msg.attach(MIMEText(html_content, 'html'))\n",
        "\n",
        "# Send the email\n",
        "try:\n",
        "    server = smtplib.SMTP(smtp_server, smtp_port)\n",
        "    server.starttls()  # Start a secure TLS connection\n",
        "    server.login(username, password)\n",
        "    server.sendmail(msg['From'], msg['To'], msg.as_string())\n",
        "    server.quit()\n",
        "    print('Email successfully sent!')\n",
        "except Exception as e:\n",
        "    print(f'Error sending email: {e}')\n"
      ],
      "metadata": {
        "id": "uKeaml6qHA21"
      },
      "execution_count": null,
      "outputs": []
    },
    {
      "cell_type": "code",
      "source": [
        "<!DOCTYPE html>\n",
        "<html>\n",
        "<head>\n",
        "    <title>{{ title }}</title>\n",
        "</head>\n",
        "<body>\n",
        "    <h1>{{ title }}</h1>\n",
        "    <p>{{ message }}</p>\n",
        "</body>\n",
        "</html>\n"
      ],
      "metadata": {
        "id": "tLFVbIKgHD2G"
      },
      "execution_count": null,
      "outputs": []
    },
    {
      "cell_type": "code",
      "source": [
        "OUTLOOK_MAIL_USERNAME=your_email@outlook.com\n",
        "OUTLOOK_MAIL_PASSWORD=your_password\n"
      ],
      "metadata": {
        "id": "Dd3hpc25HFx9"
      },
      "execution_count": null,
      "outputs": []
    },
    {
      "cell_type": "code",
      "source": [
        "mkdir email_project\n",
        "cd email_project\n",
        "python -m venv venv\n",
        "source venv/bin/activate  # On Linux/macOS\n",
        "venv\\Scripts\\activate     # On Windows"
      ],
      "metadata": {
        "id": "uyps0vS-HIuN"
      },
      "execution_count": null,
      "outputs": []
    },
    {
      "cell_type": "code",
      "source": [
        "pip install python-dotenv Jinja2"
      ],
      "metadata": {
        "id": "4ASD8RgMHLxd"
      },
      "execution_count": null,
      "outputs": []
    },
    {
      "cell_type": "code",
      "source": [
        "python send_email.py"
      ],
      "metadata": {
        "id": "axSk8mzrHNXu"
      },
      "execution_count": null,
      "outputs": []
    },
    {
      "cell_type": "code",
      "source": [],
      "metadata": {
        "id": "cO9lnSB-IcbO"
      },
      "execution_count": null,
      "outputs": []
    },
    {
      "cell_type": "markdown",
      "source": [
        "## flask"
      ],
      "metadata": {
        "id": "YyrGjQamJTVm"
      }
    },
    {
      "cell_type": "markdown",
      "source": [
        "structure for your Flask project"
      ],
      "metadata": {
        "id": "M5UGybEvLoAG"
      }
    },
    {
      "cell_type": "code",
      "source": [
        "flask_mail_project/\n",
        "│\n",
        "├── app.py                        # Main Flask application file\n",
        "├── .env                          # Environment variables file to store credentials\n",
        "├── logs/                         # Folder where log files will be stored\n",
        "├── templates/                    # Folder for HTML templates\n",
        "│   ├── welcome_email.html        # HTML template for welcome email\n",
        "│   ├── password_reset.html       # HTML template for password reset email\n",
        "│   └── newsletter.html           # HTML template for newsletter email\n",
        "├── data/                         # Folder for data files\n",
        "│   ├── json/                     # Subfolder for JSON files\n",
        "│   │   └── email_data.json       # Example JSON file with email data\n",
        "│   └── sql/                      # Subfolder for SQL scripts\n",
        "│       └── fetch_email_data.sql  # SQL script for fetching email data\n",
        "├── recipients/                   # Folder for recipient lists\n",
        "│   └── recipients.txt            # Plain text file containing the recipients' emails\n",
        "├── scripts/                      # Folder for Bash scripts\n",
        "│   └── send_emails.sh            # Bash script to automate email sending\n",
        "└── requirements.txt              # Project dependencies file"
      ],
      "metadata": {
        "id": "lJHIAbbOJWbO"
      },
      "execution_count": null,
      "outputs": []
    },
    {
      "cell_type": "code",
      "source": [
        "app.py"
      ],
      "metadata": {
        "id": "rAU5ZcBrLjvu"
      },
      "execution_count": null,
      "outputs": []
    },
    {
      "cell_type": "code",
      "source": [
        "from flask import Flask, render_template\n",
        "from flask_mail import Mail, Message\n",
        "import os\n",
        "import sys\n",
        "import json\n",
        "import sqlite3\n",
        "import logging\n",
        "from logging.handlers import RotatingFileHandler\n",
        "from dotenv import load_dotenv\n",
        "from datetime import datetime\n",
        "\n",
        "# Load environment variables from .env file\n",
        "load_dotenv()\n",
        "\n",
        "# Create logs directory if it doesn't exist\n",
        "if not os.path.exists('logs'):\n",
        "    os.makedirs('logs')\n",
        "\n",
        "# Set up logging\n",
        "log_filename = datetime.now().strftime(\"logs/log_%Y-%m-%d_%H-%M-%S.log\")\n",
        "logging.basicConfig(level=logging.INFO)\n",
        "logger = logging.getLogger(__name__)\n",
        "handler = RotatingFileHandler(log_filename, maxBytes=10000000, backupCount=5)\n",
        "handler.setLevel(logging.INFO)\n",
        "formatter = logging.Formatter('%(asctime)s - %(name)s - %(levelname)s - %(message)s')\n",
        "handler.setFormatter(formatter)\n",
        "logger.addHandler(handler)\n",
        "\n",
        "app = Flask(__name__)\n",
        "\n",
        "# Configure Flask-Mail for Outlook\n",
        "app.config['MAIL_SERVER'] = 'smtp.office365.com'\n",
        "app.config['MAIL_PORT'] = 587\n",
        "app.config['MAIL_USE_TLS'] = True\n",
        "app.config['MAIL_USE_SSL'] = False\n",
        "app.config['MAIL_USERNAME'] = os.getenv('OUTLOOK_MAIL_USERNAME')\n",
        "app.config['MAIL_PASSWORD'] = os.getenv('OUTLOOK_MAIL_PASSWORD')\n",
        "app.config['MAIL_DEFAULT_SENDER'] = os.getenv('OUTLOOK_MAIL_USERNAME')\n",
        "\n",
        "# Initialize Flask-Mail\n",
        "mail = Mail(app)\n",
        "\n",
        "def fetch_data_from_json(json_file):\n",
        "    # Load data from the specified JSON file\n",
        "    try:\n",
        "        with open(json_file, 'r') as file:\n",
        "            data = json.load(file)\n",
        "        logger.info(f\"Successfully loaded data from {json_file}\")\n",
        "        return data\n",
        "    except Exception as e:\n",
        "        logger.error(f\"Error reading JSON file {json_file}: {e}\")\n",
        "        return None\n",
        "\n",
        "def fetch_data_from_db(query_file):\n",
        "    # Load SQL query from the file\n",
        "    try:\n",
        "        with open(query_file, 'r') as file:\n",
        "            query = file.read()\n",
        "    except Exception as e:\n",
        "        logger.error(f\"Error reading SQL file {query_file}: {e}\")\n",
        "        return None\n",
        "\n",
        "    # Execute SQL query to fetch data\n",
        "    try:\n",
        "        conn = sqlite3.connect('example.db')  # Replace with your database file\n",
        "        conn.row_factory = sqlite3.Row  # This line allows us to use column names as keys\n",
        "        cursor = conn.cursor()\n",
        "        cursor.execute(query)\n",
        "        row = cursor.fetchone()\n",
        "        conn.close()\n",
        "\n",
        "        if row:\n",
        "            data = dict(row)  # Convert the row to a dictionary\n",
        "            logger.info(f\"Successfully fetched data from the database using query from {query_file}\")\n",
        "            return data\n",
        "        else:\n",
        "            logger.error(\"No data found in the database\")\n",
        "            return None\n",
        "    except Exception as e:\n",
        "        logger.error(f\"Error querying the database: {e}\")\n",
        "        return None\n",
        "\n",
        "def fetch_recipients(recipients_file):\n",
        "    # Load recipients from a plain text file\n",
        "    try:\n",
        "        with open(recipients_file, 'r') as file:\n",
        "            recipients = [line.strip() for line in file if line.strip()]\n",
        "        logger.info(f\"Successfully loaded recipients from {recipients_file}\")\n",
        "        return recipients\n",
        "    except Exception as e:\n",
        "        logger.error(f\"Error reading recipients file {recipients_file}: {e}\")\n",
        "        return []\n",
        "\n",
        "def send_email(template_name, data_source, data_source_type, recipients_file):\n",
        "    # Fetch recipients from the specified file\n",
        "    recipients = fetch_recipients(recipients_file)\n",
        "    if not recipients:\n",
        "        logger.error(\"No valid recipients found.\")\n",
        "        return\n",
        "\n",
        "    # Choose the data source type (JSON or DB)\n",
        "    if data_source_type == 'json':\n",
        "        data = fetch_data_from_json(data_source)\n",
        "    elif data_source_type == 'db':\n",
        "        data = fetch_data_from_db(data_source)\n",
        "    else:\n",
        "        logger.error(\"Invalid data source type. Use 'json' or 'db'.\")\n",
        "        return\n",
        "\n",
        "    if not data:\n",
        "        logger.error(f\"No data found for the template {template_name}.\")\n",
        "        return\n",
        "\n",
        "    # Create the email message\n",
        "    msg = Message(f'{data.get(\"title\", \"Default Title\")}',\n",
        "                  recipients=recipients)\n",
        "\n",
        "    # Render the HTML template using the fetched data\n",
        "    msg.html = render_template(template_name, **data)\n",
        "\n",
        "    try:\n",
        "        mail.send(msg)\n",
        "        logger.info(f'Email using {template_name} successfully sent to {len(recipients)} recipients!')\n",
        "    except Exception as e:\n",
        "        logger.error(f'Error sending email with template {template_name}: {e}')\n",
        "\n",
        "if __name__ == '__main__':\n",
        "    # Expect four arguments: template name, data source, data source type, and recipients file\n",
        "    if len(sys.argv) > 4:\n",
        "        template_name = sys.argv[1]\n",
        "        data_source = sys.argv[2]\n",
        "        data_source_type = sys.argv[3]  # 'json' or 'db'\n",
        "        recipients_file = sys.argv[4]\n",
        "        with app.app_context():\n",
        "            logger.info(f\"Starting email sending process with template {template_name}, data source {data_source}, data source type {data_source_type}, and recipients file {recipients_file}.\")\n",
        "            send_email(template_name, data_source, data_source_type, recipients_file)\n",
        "            logger.info(\"Email sending process completed.\")\n",
        "    else:\n",
        "        logger.error(\"Usage: python app.py <template_name> <data_source> <data_source_type> <recipients_file>\")\n",
        "        logger.info(\"Example: python app.py reminder_email.html data/reminder_data.json json recipients/recipients.txt\")\n",
        "        logger.info(\"Or: python app.py reminder_email.html data/reminder_query.sql db recipients/recipients.txt\")\n"
      ],
      "metadata": {
        "id": "9nLW-8_PJXIG"
      },
      "execution_count": null,
      "outputs": []
    },
    {
      "cell_type": "code",
      "source": [
        "data/json/reminder_data.json"
      ],
      "metadata": {
        "id": "_Il4ctwyLs3w"
      },
      "execution_count": null,
      "outputs": []
    },
    {
      "cell_type": "code",
      "source": [
        "{\n",
        "  \"title\": \"Quarterly Attestation Reminder\",\n",
        "  \"message\": \"This is a friendly reminder to complete your quarterly attestation form to ensure compliance with company policies.\",\n",
        "  \"due_date\": \"September 30, 2024\",\n",
        "  \"form_link\": \"https://example.com/attestation-form\",\n",
        "  \"additional_info\": \"Please make sure to complete the form by the due date to avoid any compliance issues. Your cooperation is appreciated.\",\n",
        "  \"footer\": \"If you have any questions or need assistance, please contact the compliance team at compliance@yourcompany.com.\",\n",
        "  \"current_year\": 2024\n",
        "}\n"
      ],
      "metadata": {
        "id": "ru9CztWILuBf"
      },
      "execution_count": null,
      "outputs": []
    },
    {
      "cell_type": "code",
      "source": [
        "data/sql/reminder_data.json.sql"
      ],
      "metadata": {
        "id": "pXesAFQwPpa-"
      },
      "execution_count": null,
      "outputs": []
    },
    {
      "cell_type": "code",
      "source": [
        "SELECT\n",
        "    title,                -- Title of the email\n",
        "    message,              -- Main body message of the email\n",
        "    due_date,             -- Due date for completing the form\n",
        "    form_link,            -- URL link to the attestation form\n",
        "    additional_info,      -- Any extra information or instructions\n",
        "    footer,               -- Footer text, like contact information\n",
        "    strftime('%Y', 'now') AS current_year  -- Current year dynamically generated\n",
        "FROM\n",
        "    email_content\n",
        "WHERE\n",
        "    id = 1;               -- Adjust 'id' based on your data\n"
      ],
      "metadata": {
        "id": "WCwJa_tKUEBv"
      },
      "execution_count": null,
      "outputs": []
    },
    {
      "cell_type": "code",
      "source": [
        "recipients/recipients.txt"
      ],
      "metadata": {
        "id": "6s6PDMroPuVm"
      },
      "execution_count": null,
      "outputs": []
    },
    {
      "cell_type": "code",
      "source": [
        "recipient1@example.com\n",
        "recipient2@example.com\n",
        "recipient3@example.com"
      ],
      "metadata": {
        "id": "blQZ3-NHPv8o"
      },
      "execution_count": null,
      "outputs": []
    },
    {
      "cell_type": "code",
      "source": [
        "scripts/send_emails.sh"
      ],
      "metadata": {
        "id": "pxE9pgknPyou"
      },
      "execution_count": null,
      "outputs": []
    },
    {
      "cell_type": "code",
      "source": [
        "#!/bin/bash\n",
        "\n",
        "# Activate virtual environment if you are using one\n",
        "source venv/bin/activate  # On Linux/macOS\n",
        "# venv\\Scripts\\activate    # On Windows\n",
        "\n",
        "# Send different types of emails with JSON data source\n",
        "python app.py welcome_email.html data/json/email_data.json json recipients/recipients.txt\n",
        "\n",
        "# Send email using a database query\n",
        "python app.py password_reset.html data/sql/fetch_email_data.sql db recipients/recipients.txt\n",
        "\n",
        "# Deactivate the virtual environment\n",
        "deactivate\n"
      ],
      "metadata": {
        "id": "97MQo36NP1fn"
      },
      "execution_count": null,
      "outputs": []
    },
    {
      "cell_type": "code",
      "source": [
        "templates/welcome_email.html"
      ],
      "metadata": {
        "id": "ZmK4xuE-LvqH"
      },
      "execution_count": null,
      "outputs": []
    },
    {
      "cell_type": "code",
      "source": [
        "<!DOCTYPE html>\n",
        "<html lang=\"en\">\n",
        "<head>\n",
        "    <meta charset=\"UTF-8\">\n",
        "    <meta http-equiv=\"X-UA-Compatible\" content=\"IE=edge\">\n",
        "    <meta name=\"viewport\" content=\"width=device-width, initial-scale=1.0\">\n",
        "    <title>{{ title }}</title>\n",
        "    <style>\n",
        "        body {\n",
        "            font-family: Arial, sans-serif;\n",
        "            background-color: #f4f4f4;\n",
        "            color: #333;\n",
        "            margin: 0;\n",
        "            padding: 20px;\n",
        "        }\n",
        "        .email-container {\n",
        "            max-width: 600px;\n",
        "            margin: 0 auto;\n",
        "            background-color: #ffffff;\n",
        "            border-radius: 5px;\n",
        "            padding: 20px;\n",
        "            box-shadow: 0 2px 4px rgba(0, 0, 0, 0.1);\n",
        "        }\n",
        "        h1 {\n",
        "            color: #333;\n",
        "        }\n",
        "        p {\n",
        "            line-height: 1.6;\n",
        "        }\n",
        "        .button {\n",
        "            display: inline-block;\n",
        "            padding: 10px 20px;\n",
        "            margin-top: 20px;\n",
        "            background-color: #007bff;\n",
        "            color: white;\n",
        "            text-decoration: none;\n",
        "            border-radius: 5px;\n",
        "        }\n",
        "        .footer {\n",
        "            font-size: 0.8em;\n",
        "            color: #666;\n",
        "            margin-top: 20px;\n",
        "        }\n",
        "    </style>\n",
        "</head>\n",
        "<body>\n",
        "    <div class=\"email-container\">\n",
        "        <h1>{{ title }}</h1>\n",
        "        <p>{{ message }}</p>\n",
        "        <p><strong>Due Date:</strong> {{ due_date }}</p>\n",
        "        <p>Please click the button below to complete your attestation form:</p>\n",
        "        <a href=\"{{ form_link }}\" class=\"button\">Complete Form</a>\n",
        "        <p>If the button above does not work, copy and paste the following URL into your browser:</p>\n",
        "        <p>{{ form_link }}</p>\n",
        "        <p>{{ additional_info }}</p>\n",
        "        <div class=\"footer\">\n",
        "            <p>{{ footer }}</p>\n",
        "            <p>&copy; {{ current_year }} Your Company. All rights reserved.</p>\n",
        "        </div>\n",
        "    </div>\n",
        "</body>\n",
        "</html>\n"
      ],
      "metadata": {
        "id": "ZOx6yda-Q-iP"
      },
      "execution_count": null,
      "outputs": []
    },
    {
      "cell_type": "code",
      "source": [
        ".env"
      ],
      "metadata": {
        "id": "2rdg3N0tLynI"
      },
      "execution_count": null,
      "outputs": []
    },
    {
      "cell_type": "code",
      "source": [
        "OUTLOOK_MAIL_USERNAME=your_email@outlook.com\n",
        "OUTLOOK_MAIL_PASSWORD=your_password"
      ],
      "metadata": {
        "id": "7Px1DRrjL0Qm"
      },
      "execution_count": null,
      "outputs": []
    },
    {
      "cell_type": "code",
      "source": [
        "send_emails.sh"
      ],
      "metadata": {
        "id": "keDSnDepL5NO"
      },
      "execution_count": null,
      "outputs": []
    },
    {
      "cell_type": "code",
      "source": [
        "chmod +x send_emails.sh"
      ],
      "metadata": {
        "id": "gLMhAtEZL9zm"
      },
      "execution_count": null,
      "outputs": []
    },
    {
      "cell_type": "code",
      "source": [
        "./send_emails.sh"
      ],
      "metadata": {
        "id": "rpFj8RKiL_CX"
      },
      "execution_count": null,
      "outputs": []
    }
  ]
}