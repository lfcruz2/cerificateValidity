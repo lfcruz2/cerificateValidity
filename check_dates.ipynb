{
  "nbformat": 4,
  "nbformat_minor": 0,
  "metadata": {
    "colab": {
      "provenance": []
    },
    "kernelspec": {
      "name": "python3",
      "display_name": "Python 3"
    },
    "language_info": {
      "name": "python"
    }
  },
  "cells": [
    {
      "cell_type": "code",
      "execution_count": 9,
      "metadata": {
        "colab": {
          "base_uri": "https://localhost:8080/"
        },
        "id": "Ln8Rb4DXrBYn",
        "outputId": "23c97608-ead3-4831-d5c9-40f45f4b5ecb"
      },
      "outputs": [
        {
          "output_type": "stream",
          "name": "stderr",
          "text": [
            "....\n",
            "----------------------------------------------------------------------\n",
            "Ran 4 tests in 0.283s\n",
            "\n",
            "OK\n"
          ]
        },
        {
          "output_type": "execute_result",
          "data": {
            "text/plain": [
              "<unittest.main.TestProgram at 0x7aea7b5b2cb0>"
            ]
          },
          "metadata": {},
          "execution_count": 9
        }
      ],
      "source": [
        "import unittest\n",
        "from freezegun import freeze_time\n",
        "import pandas as pd\n",
        "from datetime import datetime, timedelta\n",
        "\n",
        "class TestWebAutomation(unittest.TestCase):\n",
        "    def setUp(self):\n",
        "        # Configuración inicial de prueba\n",
        "        self.holidays = [\n",
        "            \"2024-01-01\", \"2024-01-15\", \"2024-02-19\", \"2024-05-27\",\n",
        "            \"2024-07-04\", \"2024-09-02\", \"2024-10-14\", \"2024-11-11\",\n",
        "            \"2024-11-28\", \"2024-12-25\"\n",
        "        ]\n",
        "\n",
        "        self.config_with_business_days = {\n",
        "            \"use_business_day\": True,\n",
        "            \"holidays\": self.holidays\n",
        "        }\n",
        "\n",
        "        self.config_without_business_days = {\n",
        "            \"use_business_day\": False,\n",
        "            \"holidays\": self.holidays\n",
        "        }\n",
        "\n",
        "    def get_previous_day(self, config):\n",
        "        holidays = config.get('holidays', [])\n",
        "        use_business_day = config.get('use_business_day', False)\n",
        "\n",
        "        if use_business_day:\n",
        "            custom_bd = pd.offsets.CustomBusinessDay(holidays=holidays)\n",
        "            previous_business_day = pd.Timestamp(datetime.now()) - custom_bd\n",
        "            return previous_business_day.to_pydatetime()\n",
        "        else:\n",
        "            previous_day = datetime.now() - timedelta(days=1)\n",
        "            return previous_day\n",
        "\n",
        "    @freeze_time(\"2024-07-05\")\n",
        "    def test_previous_business_day_regular_day(self):\n",
        "        # Configurado para el 5 de Julio de 2024 (después del 4 de Julio)\n",
        "        previous_day = self.get_previous_day(self.config_with_business_days)\n",
        "        self.assertEqual(previous_day.date(), datetime(2024, 7, 3).date())\n",
        "\n",
        "    @freeze_time(\"2024-09-02\")\n",
        "    def test_previous_business_day_after_weekend(self):\n",
        "        # Configurado para el 2 de Septiembre de 2024 (Lunes después del fin de semana y día laboral)\n",
        "        previous_day = self.get_previous_day(self.config_with_business_days)\n",
        "        self.assertEqual(previous_day.date(), datetime(2024, 8, 30).date())\n",
        "\n",
        "    @freeze_time(\"2024-11-12\")\n",
        "    def test_previous_business_day_holiday(self):\n",
        "        # Configurado para el 12 de Noviembre de 2024 (después del día del Veterano)\n",
        "        previous_day = self.get_previous_day(self.config_with_business_days)\n",
        "        self.assertEqual(previous_day.date(), datetime(2024, 11, 8).date())  # 11 de Nov es sábado, se observa el 10\n",
        "\n",
        "    @freeze_time(\"2024-07-05\")\n",
        "    def test_previous_calendar_day(self):\n",
        "        # Configurado para el 5 de Julio de 2024\n",
        "        previous_day = self.get_previous_day(self.config_without_business_days)\n",
        "        self.assertEqual(previous_day.date(), datetime(2024, 7, 4).date())\n",
        "\n",
        "# Ejecutar las pruebas en Colab\n",
        "unittest.main(argv=[''], exit=False)\n"
      ]
    },
    {
      "cell_type": "code",
      "source": [
        "!pip install freezegun"
      ],
      "metadata": {
        "colab": {
          "base_uri": "https://localhost:8080/"
        },
        "id": "TEq3GxOusZtX",
        "outputId": "d92511d2-d8b2-4420-ffac-51150378e705"
      },
      "execution_count": 8,
      "outputs": [
        {
          "output_type": "stream",
          "name": "stdout",
          "text": [
            "Collecting freezegun\n",
            "  Downloading freezegun-1.5.1-py3-none-any.whl.metadata (11 kB)\n",
            "Requirement already satisfied: python-dateutil>=2.7 in /usr/local/lib/python3.10/dist-packages (from freezegun) (2.8.2)\n",
            "Requirement already satisfied: six>=1.5 in /usr/local/lib/python3.10/dist-packages (from python-dateutil>=2.7->freezegun) (1.16.0)\n",
            "Downloading freezegun-1.5.1-py3-none-any.whl (17 kB)\n",
            "Installing collected packages: freezegun\n",
            "Successfully installed freezegun-1.5.1\n"
          ]
        }
      ]
    },
    {
      "cell_type": "code",
      "source": [
        "unittest.main()\n"
      ],
      "metadata": {
        "colab": {
          "base_uri": "https://localhost:8080/",
          "height": 297
        },
        "id": "W8LM1wnqrMCm",
        "outputId": "c20e961e-29f2-46b5-ba61-2e75827ad70e"
      },
      "execution_count": 3,
      "outputs": [
        {
          "output_type": "stream",
          "name": "stderr",
          "text": [
            "E\n",
            "======================================================================\n",
            "ERROR: /root/ (unittest.loader._FailedTest)\n",
            "----------------------------------------------------------------------\n",
            "AttributeError: module '__main__' has no attribute '/root/'\n",
            "\n",
            "----------------------------------------------------------------------\n",
            "Ran 1 test in 0.002s\n",
            "\n",
            "FAILED (errors=1)\n"
          ]
        },
        {
          "output_type": "error",
          "ename": "SystemExit",
          "evalue": "True",
          "traceback": [
            "An exception has occurred, use %tb to see the full traceback.\n",
            "\u001b[0;31mSystemExit\u001b[0m\u001b[0;31m:\u001b[0m True\n"
          ]
        },
        {
          "output_type": "stream",
          "name": "stderr",
          "text": [
            "/usr/local/lib/python3.10/dist-packages/IPython/core/interactiveshell.py:3561: UserWarning: To exit: use 'exit', 'quit', or Ctrl-D.\n",
            "  warn(\"To exit: use 'exit', 'quit', or Ctrl-D.\", stacklevel=1)\n"
          ]
        }
      ]
    }
  ]
}