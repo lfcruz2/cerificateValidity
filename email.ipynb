{
  "nbformat": 4,
  "nbformat_minor": 0,
  "metadata": {
    "colab": {
      "provenance": []
    },
    "kernelspec": {
      "name": "python3",
      "display_name": "Python 3"
    },
    "language_info": {
      "name": "python"
    }
  },
  "cells": [
    {
      "cell_type": "code",
      "execution_count": null,
      "metadata": {
        "id": "U_11DPiEG8cH"
      },
      "outputs": [],
      "source": [
        "email_project/\n",
        "│\n",
        "├── send_email.py             # Standalone Python script to send email\n",
        "├── .env                      # Environment variables file to store credentials\n",
        "└── templates/                # Folder for HTML templates\n",
        "    └── email_template.html   # HTML template for the email"
      ]
    },
    {
      "cell_type": "code",
      "source": [
        "import os\n",
        "import smtplib\n",
        "from email.mime.multipart import MIMEMultipart\n",
        "from email.mime.text import MIMEText\n",
        "from dotenv import load_dotenv\n",
        "from jinja2 import Template\n",
        "\n",
        "# Load environment variables from .env file\n",
        "load_dotenv()\n",
        "\n",
        "# Email configuration\n",
        "smtp_server = 'smtp.office365.com'\n",
        "smtp_port = 587\n",
        "username = os.getenv('OUTLOOK_MAIL_USERNAME')\n",
        "password = os.getenv('OUTLOOK_MAIL_PASSWORD')\n",
        "\n",
        "# Read the HTML template\n",
        "with open('templates/email_template.html', 'r') as file:\n",
        "    template = Template(file.read())\n",
        "\n",
        "# Render the template with dynamic content\n",
        "html_content = template.render(title='Test Email', message='This is an email sent securely using a Python script.')\n",
        "\n",
        "# Create the email message\n",
        "msg = MIMEMultipart('alternative')\n",
        "msg['From'] = username\n",
        "msg['To'] = 'recipient@example.com'  # Replace with the recipient's email\n",
        "msg['Subject'] = 'Secure Test Email with Python Script'\n",
        "\n",
        "# Attach the HTML content to the email\n",
        "msg.attach(MIMEText(html_content, 'html'))\n",
        "\n",
        "# Send the email\n",
        "try:\n",
        "    server = smtplib.SMTP(smtp_server, smtp_port)\n",
        "    server.starttls()  # Start a secure TLS connection\n",
        "    server.login(username, password)\n",
        "    server.sendmail(msg['From'], msg['To'], msg.as_string())\n",
        "    server.quit()\n",
        "    print('Email successfully sent!')\n",
        "except Exception as e:\n",
        "    print(f'Error sending email: {e}')\n"
      ],
      "metadata": {
        "id": "uKeaml6qHA21"
      },
      "execution_count": null,
      "outputs": []
    },
    {
      "cell_type": "code",
      "source": [
        "<!DOCTYPE html>\n",
        "<html>\n",
        "<head>\n",
        "    <title>{{ title }}</title>\n",
        "</head>\n",
        "<body>\n",
        "    <h1>{{ title }}</h1>\n",
        "    <p>{{ message }}</p>\n",
        "</body>\n",
        "</html>\n"
      ],
      "metadata": {
        "id": "tLFVbIKgHD2G"
      },
      "execution_count": null,
      "outputs": []
    },
    {
      "cell_type": "code",
      "source": [
        "OUTLOOK_MAIL_USERNAME=your_email@outlook.com\n",
        "OUTLOOK_MAIL_PASSWORD=your_password\n"
      ],
      "metadata": {
        "id": "Dd3hpc25HFx9"
      },
      "execution_count": null,
      "outputs": []
    },
    {
      "cell_type": "code",
      "source": [
        "mkdir email_project\n",
        "cd email_project\n",
        "python -m venv venv\n",
        "source venv/bin/activate  # On Linux/macOS\n",
        "venv\\Scripts\\activate     # On Windows"
      ],
      "metadata": {
        "id": "uyps0vS-HIuN"
      },
      "execution_count": null,
      "outputs": []
    },
    {
      "cell_type": "code",
      "source": [
        "pip install python-dotenv Jinja2"
      ],
      "metadata": {
        "id": "4ASD8RgMHLxd"
      },
      "execution_count": null,
      "outputs": []
    },
    {
      "cell_type": "code",
      "source": [
        "python send_email.py"
      ],
      "metadata": {
        "id": "axSk8mzrHNXu"
      },
      "execution_count": null,
      "outputs": []
    }
  ]
}